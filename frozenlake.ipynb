{
 "cells": [
  {
   "cell_type": "markdown",
   "metadata": {},
   "source": [
    "# Frozen Lake experiments"
   ]
  },
  {
   "cell_type": "code",
   "execution_count": 16,
   "metadata": {
    "scrolled": true
   },
   "outputs": [
    {
     "name": "stdout",
     "output_type": "stream",
     "text": [
      "\n",
      "\u001b[41mS\u001b[0mFFFFFFF\n",
      "FFFFFFFF\n",
      "FFFHFFFF\n",
      "FFFFFHFF\n",
      "FFFHFFFF\n",
      "FHHFFFHF\n",
      "FHFFHFHF\n",
      "FFFHFFFG\n"
     ]
    }
   ],
   "source": [
    "import copy\n",
    "import gym\n",
    "import matplotlib.cm as cm\n",
    "import matplotlib.pyplot as plt\n",
    "from matplotlib import rc\n",
    "import numpy as np\n",
    "\n",
    "# generate the map\n",
    "env_frozenlake = gym.make('FrozenLake-v0', map_name='8x8')\n",
    "env_frozenlake.reset()\n",
    "env_frozenlake.render()"
   ]
  },
  {
   "cell_type": "code",
   "execution_count": 2,
   "metadata": {},
   "outputs": [],
   "source": [
    "# don't stop the env on holes and add penalty\n",
    "def continue_on_hole(env, penalty = 0.01, goal_reward = 1):\n",
    "    env.penalty = penalty\n",
    "    env_modified = copy.deepcopy(env)\n",
    "    desc = env.desc.flatten()\n",
    "    for s in range(env.nS):\n",
    "        for a in range(env.nA):\n",
    "            possible_outcomes = env.P[s][a]\n",
    "            new_possible_outcomes = []\n",
    "            for outcome in possible_outcomes:\n",
    "                prob, next_state, reward, done = outcome\n",
    "                if desc[next_state] == b'G':\n",
    "                    reward = goal_reward\n",
    "                if desc[next_state] == b'H':\n",
    "                    done = False\n",
    "                    reward = -penalty\n",
    "                new_possible_outcomes.append((prob, next_state, reward, done))\n",
    "            env_modified.P[s][a] = new_possible_outcomes\n",
    "    return env_modified"
   ]
  },
  {
   "cell_type": "code",
   "execution_count": 3,
   "metadata": {},
   "outputs": [],
   "source": [
    "# The policy given a Qfunc\n",
    "class policy_from_Qfunc(object):\n",
    "    def __init__(self, Qfunc, random_tie_breaking = False):\n",
    "        self.Qfunc = Qfunc\n",
    "        self.random_tie_breaking = random_tie_breaking\n",
    "        \n",
    "    def act_from_values(self, values):\n",
    "        if self.random_tie_breaking:\n",
    "            inds = np.flatnonzero(values == values.max())\n",
    "            a = np.random.choice(inds)\n",
    "        else:\n",
    "            a = np.argmax(values)\n",
    "        return a\n",
    "    \n",
    "    def act(self, s):\n",
    "        values = self.Qfunc[s, :]\n",
    "        return self.act_from_values(values)"
   ]
  },
  {
   "cell_type": "code",
   "execution_count": 4,
   "metadata": {},
   "outputs": [],
   "source": [
    "# Frozen Lake experiments for a policy\n",
    "def run_exp(env, policy, n_exp = 1000, max_iter = None, seed = None, render = False, print_result = False):\n",
    "    if seed is not None:\n",
    "        env.seed(seed)\n",
    "        \n",
    "    if max_iter is None:\n",
    "        # use the default max_episode_steps\n",
    "        max_iter = env._max_episode_steps\n",
    "        \n",
    "    desc = env.desc.flatten()\n",
    "    \n",
    "    reward_total = 0.0\n",
    "    danger_total = 0.0\n",
    "    for exp in range(n_exp):\n",
    "        s = env.reset()\n",
    "        for i in range(max_iter):\n",
    "            a = policy.act(s)\n",
    "            s, r, done, info = env.step(a)\n",
    "            if desc[s] == b'H':\n",
    "                danger_total += env.penalty\n",
    "            if desc[s] == b'G':\n",
    "                reward_total += 1\n",
    "            if render:\n",
    "                env.render()\n",
    "            if done:\n",
    "                break\n",
    "    if print_result:\n",
    "        print('Avg collision rate: {:.3f}'.format(danger_total / n_exp), \n",
    "              'Avg reward: {:.3f}'.format(reward_total / n_exp)\n",
    "             )\n",
    "    return danger_total / n_exp, reward_total / n_exp"
   ]
  },
  {
   "cell_type": "markdown",
   "metadata": {},
   "source": [
    "# Value iteration and optimal policy with Lagrange multiplier"
   ]
  },
  {
   "cell_type": "code",
   "execution_count": 5,
   "metadata": {},
   "outputs": [],
   "source": [
    "class ValueIterationAgent(object):\n",
    "    def __init__(self, env, Qfunc_init = None, gamma = 0.99, max_iter = None):\n",
    "        self.env = env\n",
    "        self.gamma = gamma\n",
    "        if max_iter is None:\n",
    "            self.max_iter = env._max_episode_steps\n",
    "        else:\n",
    "            self.max_iter = max_iter\n",
    "        if Qfunc_init is None:\n",
    "            self.Qfunc = np.zeros([self.env.nS, self.env.nA])\n",
    "        else:\n",
    "            self.Qfunc = Qfunc_init\n",
    "        self.Vfunc = np.zeros(self.env.nS)\n",
    "    \n",
    "    def compute_V_from_Q(self):\n",
    "        self.Vfunc = np.max(self.Qfunc, axis=1)\n",
    "    def compute_Q_from_next_V(self):\n",
    "        for s in range(self.env.nS):\n",
    "            for a in range(self.env.nA):\n",
    "                self.Qfunc[s, a] = 0\n",
    "                possible_outcomes = self.env.P[s][a]\n",
    "                for outcome in possible_outcomes:\n",
    "                    prob, next_state, reward, done = outcome\n",
    "                    future_reward = 0 if done else self.Vfunc[next_state]\n",
    "                    self.Qfunc[s, a] += prob * (reward + self.gamma * future_reward)\n",
    "            \n",
    "    def do_value_iteration(self):\n",
    "        self.compute_V_from_Q()\n",
    "        for i in range(self.max_iter):    \n",
    "            old_V = self.Vfunc.copy()\n",
    "            self.compute_Q_from_next_V()\n",
    "            self.compute_V_from_Q()\n",
    "            if np.allclose(self.Vfunc, old_V):\n",
    "                break\n",
    "        \n",
    "    def get_policy(self):\n",
    "        return policy_from_Qfunc(self.Qfunc)"
   ]
  },
  {
   "cell_type": "code",
   "execution_count": 6,
   "metadata": {},
   "outputs": [],
   "source": [
    "# The Lagrange multiplier method\n",
    "penalty_list = [0, 0.01, 0.02, 0.09, 0.1]\n",
    "env_list = []\n",
    "for penalty in penalty_list:\n",
    "    env_list.append(continue_on_hole(env_frozenlake, penalty=penalty))\n",
    "\n",
    "env_test = continue_on_hole(env_frozenlake, penalty=1)\n",
    "\n",
    "def LM_exp_curve(env_list, print_result=False):\n",
    "    reward_list = []\n",
    "    danger_list = []\n",
    "    for i, env in enumerate(env_list):\n",
    "        VI_FL = ValueIterationAgent(env)\n",
    "        VI_FL.do_value_iteration()\n",
    "        policy = VI_FL.get_policy()\n",
    "        danger, reward = run_exp(env_test, policy)\n",
    "        if print_result:\n",
    "            print('the {}th env avg danger {:.3f} and avg reward {:.3f}'.format(i, danger, reward))\n",
    "        reward_list.append(reward)\n",
    "        danger_list.append(danger)\n",
    "    return danger_list, reward_list\n",
    "\n",
    "danger_LM, reward_LM = LM_exp_curve(env_list)"
   ]
  },
  {
   "cell_type": "markdown",
   "metadata": {},
   "source": [
    "# RMDP"
   ]
  },
  {
   "cell_type": "code",
   "execution_count": 7,
   "metadata": {},
   "outputs": [],
   "source": [
    "# Construct the RMDP by chaning the reward\n",
    "# Reward is -1 if on a hole `H` or 0 otherwise\n",
    "env_RMDP = continue_on_hole(env_frozenlake, penalty=1, goal_reward=0)"
   ]
  },
  {
   "cell_type": "code",
   "execution_count": 8,
   "metadata": {},
   "outputs": [
    {
     "name": "stdout",
     "output_type": "stream",
     "text": [
      "RMDP policy in Frozen Lake:\n",
      "Avg collision rate: 0.000 Avg reward: 0.000\n"
     ]
    }
   ],
   "source": [
    "# Construct the RMDP by chaning the reward\n",
    "# Reward is -1 if on a hole `H` or 0 otherwise\n",
    "env_RMDP = continue_on_hole(env_frozenlake, penalty=1, goal_reward=0)\n",
    "\n",
    "# Solve the RMDP and test its optimal policy in the original Frozen Lake\n",
    "VI_RMDP = ValueIterationAgent(env_RMDP)\n",
    "VI_RMDP.do_value_iteration()\n",
    "print('RMDP policy in Frozen Lake:')\n",
    "run_exp(env_frozenlake, VI_RMDP.get_policy(), print_result=True);"
   ]
  },
  {
   "cell_type": "markdown",
   "metadata": {},
   "source": [
    "# Visualization of the threat function"
   ]
  },
  {
   "cell_type": "code",
   "execution_count": 9,
   "metadata": {},
   "outputs": [
    {
     "data": {
      "text/plain": [
       "<matplotlib.colorbar.Colorbar at 0x1270e8ef0>"
      ]
     },
     "execution_count": 9,
     "metadata": {},
     "output_type": "execute_result"
    },
    {
     "data": {
      "image/png": "[encoded data removed]",
      "text/plain": [
       "<Figure size 432x288 with 5 Axes>"
      ]
     },
     "metadata": {
      "needs_background": "light"
     },
     "output_type": "display_data"
    }
   ],
   "source": [
    "env = env_frozenlake\n",
    "TF = -VI_RMDP.Qfunc\n",
    "TF_grid = np.zeros((env.nrow, env.ncol, env.nA))\n",
    "x_arr = np.arange(0, env.nrow, 1)\n",
    "y_arr = np.arange(0, env.ncol, 1)\n",
    "for row in x_arr:\n",
    "    for col in y_arr:\n",
    "        for a in range(env.nA):\n",
    "            s = row*env.ncol + col\n",
    "            TF_grid[row, col, a] = TF[s][a]\n",
    "\n",
    "fig, ax = plt.subplots(1, 4, constrained_layout=True)\n",
    "a_list = ['LEFT', 'DOWN', 'RIGHT', 'UP']\n",
    "for a in range(env.nA):\n",
    "    ax[a].set_title(a_list[a])\n",
    "    pcm = ax[a].imshow(TF_grid[:,:,a], cmap=cm.jet)\n",
    "\n",
    "fig.colorbar(pcm, ax=ax[:], shrink=0.6, location='bottom')"
   ]
  },
  {
   "cell_type": "markdown",
   "metadata": {},
   "source": [
    "# Solve PMDP using the RMDP Q-function"
   ]
  },
  {
   "cell_type": "code",
   "execution_count": 10,
   "metadata": {},
   "outputs": [],
   "source": [
    "# RP policy given a threat function\n",
    "class policy_RP(policy_from_Qfunc):\n",
    "    def __init__(self, Qfunc, threat_function, threat_threshold = 0.03, random_tie_breaking = False):\n",
    "        super().__init__(Qfunc, random_tie_breaking)\n",
    "        self.threat_function = threat_function\n",
    "        self.threat_threshold = threat_threshold\n",
    "        self.is_safe_action_list = []\n",
    "        for s in range(self.threat_function.shape[0]):\n",
    "            self.is_safe_action_list.append(self.threat_function[s, :] < self.threat_threshold)\n",
    "    def act(self, s):\n",
    "        is_safe_action = self.is_safe_action_list[s]\n",
    "        if np.any(is_safe_action):\n",
    "            # replace the values of non-safe actions to -inf\n",
    "            values = np.where(is_safe_action, self.Qfunc[s, :], - np.inf)\n",
    "        else:\n",
    "            # no safe actions, follow RMDP policy from negative threat function\n",
    "            values = - self.threat_function[s, :]\n",
    "        \n",
    "        return self.act_from_values(values)\n",
    "\n",
    "    \n",
    "class RPValueIterationAgent(ValueIterationAgent):\n",
    "    def __init__(self, env, threat_function, **kwargs):\n",
    "        self.threat_function = threat_function\n",
    "        self.threat_threshold = kwargs.pop('threat_threshold')\n",
    "        self.is_safe_action_list = []\n",
    "        for s in range(env.nS):\n",
    "            self.is_safe_action_list.append(self.threat_function[s, :] < self.threat_threshold)\n",
    "         \n",
    "        super().__init__(env, **kwargs)\n",
    "    \n",
    "    def compute_V_from_Q(self):\n",
    "        for s in range(self.env.nS):\n",
    "            is_safe_action = self.is_safe_action_list[s]\n",
    "            \n",
    "            if np.any(is_safe_action):\n",
    "                self.Vfunc[s] = np.max(self.Qfunc[s, is_safe_action])\n",
    "            else:\n",
    "                action_from_threat_func = np.argmin(self.threat_function[s, :])\n",
    "                self.Vfunc[s] = self.Qfunc[s, action_from_threat_func]\n",
    "\n",
    "    def get_policy(self):\n",
    "        return policy_RP(self.Qfunc, self.threat_function, self.threat_threshold)"
   ]
  },
  {
   "cell_type": "code",
   "execution_count": 11,
   "metadata": {},
   "outputs": [],
   "source": [
    "env_train = continue_on_hole(env_frozenlake, penalty = 0)\n",
    "env_test = continue_on_hole(env_frozenlake, penalty = 1)\n",
    "\n",
    "def RP_exp_curve(threat_threshold_list, threat_function, n_exp=3000, print_result=False):\n",
    "    reward_list = []\n",
    "    danger_list = []\n",
    "    for i, threat_threshold in enumerate(threat_threshold_list):\n",
    "        RP_VI = RPValueIterationAgent(env_train, threat_function, threat_threshold=threat_threshold)\n",
    "        RP_VI.do_value_iteration()\n",
    "        policy = RP_VI.get_policy()\n",
    "        danger, reward = run_exp(env_test, policy, n_exp=n_exp)\n",
    "        if print_result:\n",
    "            print('the {}/{}th case avg danger {:.3f} and avg reward {:.3f}'.format(i, len(threat_threshold_list), danger, reward))\n",
    "        reward_list.append(reward)\n",
    "        danger_list.append(danger)\n",
    "    return danger_list, reward_list"
   ]
  },
  {
   "cell_type": "code",
   "execution_count": 12,
   "metadata": {},
   "outputs": [],
   "source": [
    "# PMDP policy in Frozen Lake\n",
    "n_exp = 3000\n",
    "threat_threshold_list_logx = np.logspace(-4.0, 1.0, num=20)\n",
    "\n",
    "danger_rp, reward_rp = RP_exp_curve(threat_threshold_list_logx, -VI_RMDP.Qfunc, n_exp=n_exp)"
   ]
  },
  {
   "cell_type": "code",
   "execution_count": 13,
   "metadata": {},
   "outputs": [],
   "source": [
    "# compute the threat function for a heuristic policy\n",
    "def policy_evaluation(env, policy, gamma=0.99):\n",
    "    Qfunc = np.zeros([env.nS, env.nA])\n",
    "    for i in range(env._max_episode_steps): \n",
    "        Qfunc_new = np.zeros([env.nS, env.nA])\n",
    "        for s in range(env.nS):\n",
    "            for a in range(env.nA):\n",
    "                possible_outcomes = env.P[s][a]\n",
    "                for outcome in possible_outcomes:\n",
    "                    prob, next_state, reward, done = outcome\n",
    "                    future_reward = 0 if done else Qfunc[next_state, policy.act(next_state)]\n",
    "                    Qfunc_new[s, a] += prob * (reward + gamma * future_reward)\n",
    "        Qfunc = Qfunc_new\n",
    "    return Qfunc\n",
    "\n",
    "\n",
    "def random_policy_evaluation(env, gamma=0.99):\n",
    "    Qfunc = np.zeros([env.nS, env.nA])\n",
    "    for i in range(env._max_episode_steps): \n",
    "        Qfunc_new = np.zeros([env.nS, env.nA])\n",
    "        for s in range(env.nS):\n",
    "            for a in range(env.nA):\n",
    "                possible_outcomes = env.P[s][a]\n",
    "                for outcome in possible_outcomes:\n",
    "                    prob, next_state, reward, done = outcome\n",
    "                    future_reward = 0\n",
    "                    if not done:\n",
    "                        for next_a in range(env.nA):\n",
    "                            future_reward += Qfunc[next_state, next_a] / env.nA\n",
    "                    \n",
    "                    Qfunc_new[s, a] += prob * (reward + gamma * future_reward)\n",
    "        Qfunc = Qfunc_new\n",
    "    return Qfunc\n",
    "\n",
    "\n",
    "Qfunc_heuristic1 = random_policy_evaluation(env_RMDP)\n",
    "policy_heuristic1 = policy_from_Qfunc(Qfunc_heuristic1)\n",
    "Qfunc_heuristic2 = policy_evaluation(env_RMDP, policy_heuristic1)\n",
    "policy_heuristic2 = policy_from_Qfunc(Qfunc_heuristic2)\n",
    "Qfunc_heuristic3 = policy_evaluation(env_RMDP, policy_heuristic2)"
   ]
  },
  {
   "cell_type": "code",
   "execution_count": 14,
   "metadata": {},
   "outputs": [],
   "source": [
    "# run experiments\n",
    "danger_rp1, reward_rp1 = RP_exp_curve(threat_threshold_list_logx, -Qfunc_heuristic1, n_exp=n_exp)\n",
    "danger_rp2, reward_rp2 = RP_exp_curve(threat_threshold_list_logx, -Qfunc_heuristic2, n_exp=n_exp)\n",
    "danger_rp3, reward_rp3 = RP_exp_curve(threat_threshold_list_logx, -Qfunc_heuristic3, n_exp=n_exp)"
   ]
  },
  {
   "cell_type": "code",
   "execution_count": 17,
   "metadata": {},
   "outputs": [
    {
     "data": {
      "text/plain": [
       "<matplotlib.legend.Legend at 0x129511b00>"
      ]
     },
     "execution_count": 17,
     "metadata": {},
     "output_type": "execute_result"
    },
    {
     "data": {
      "image/png": "[encoded data removed]",
      "text/plain": [
       "<Figure size 432x288 with 1 Axes>"
      ]
     },
     "metadata": {
      "needs_background": "light"
     },
     "output_type": "display_data"
    },
    {
     "data": {
      "image/png": "[encoded data removed]",
      "text/plain": [
       "<Figure size 432x288 with 1 Axes>"
      ]
     },
     "metadata": {
      "needs_background": "light"
     },
     "output_type": "display_data"
    }
   ],
   "source": [
    "plt.rcParams.update({'font.size': 14})\n",
    "rc('text', usetex=True)\n",
    "plt.figure()\n",
    "\n",
    "plt.plot(threat_threshold_list_logx, danger_rp1, 'o-', label=r'P-MDP with $\\eta^0$')\n",
    "plt.plot(threat_threshold_list_logx, danger_rp2, '^-', label=r'P-MDP with $\\eta^1$')\n",
    "plt.plot(threat_threshold_list_logx, danger_rp3, 'v-', label=r'P-MDP with $\\eta^2$')\n",
    "plt.plot(threat_threshold_list_logx, danger_rp, 'rs-', label='RP')\n",
    "\n",
    "plt.plot(threat_threshold_list_logx, threat_threshold_list_logx * 100, 'r--', \n",
    "             label='Upper bound') \n",
    "plt.ylim(0, 5)\n",
    "plt.xscale('log')\n",
    "plt.xlabel(r'threat threshold $x$')\n",
    "plt.ylabel('Average danger')\n",
    "plt.legend(loc = 'center left', bbox_to_anchor=(-0.02, 0.4))\n",
    "\n",
    "plt.figure()\n",
    "\n",
    "plt.plot(threat_threshold_list_logx, reward_rp1, 'o-', label=r'P-MDP with $\\eta^0$')\n",
    "plt.plot(threat_threshold_list_logx, reward_rp2, '^-', label=r'P-MDP with $\\eta^1$')\n",
    "plt.plot(threat_threshold_list_logx, reward_rp3, 'v-', label=r'P-MDP with $\\eta^2$')\n",
    "plt.plot(threat_threshold_list_logx, reward_rp, 'rs-', label='RP')\n",
    "plt.xscale('log')\n",
    "plt.xlabel(r'threat threshold $x$')\n",
    "plt.ylabel('Average reward')\n",
    "plt.legend(loc = 'center left', bbox_to_anchor=(0, 0.4))"
   ]
  },
  {
   "cell_type": "code",
   "execution_count": 18,
   "metadata": {},
   "outputs": [
    {
     "data": {
      "text/plain": [
       "<matplotlib.legend.Legend at 0x129830b70>"
      ]
     },
     "execution_count": 18,
     "metadata": {},
     "output_type": "execute_result"
    },
    {
     "data": {
      "image/png": "[encoded data removed]",
      "text/plain": [
       "<Figure size 432x288 with 1 Axes>"
      ]
     },
     "metadata": {
      "needs_background": "light"
     },
     "output_type": "display_data"
    }
   ],
   "source": [
    "plt.figure()\n",
    "plt.scatter(danger_rp1, reward_rp1, marker='o', label=r'P-MDP with $\\eta^0$')\n",
    "plt.scatter(danger_rp2, reward_rp2, marker='^', label=r'P-MDP with $\\eta^1$')\n",
    "plt.scatter(danger_rp3, reward_rp3, marker='v', label=r'P-MDP with $\\eta^2$')\n",
    "plt.scatter(danger_rp, reward_rp, marker='s', label='RP')\n",
    "\n",
    "plt.plot(danger_LM, reward_LM, 'k-', label='Lagrange multiplier method' )\n",
    "plt.xlabel('Average danger')\n",
    "plt.ylabel('Average reward')\n",
    "plt.legend()"
   ]
  },
  {
   "cell_type": "code",
   "execution_count": null,
   "metadata": {},
   "outputs": [],
   "source": []
  }
 ],
 "metadata": {
  "kernelspec": {
   "display_name": "Python 3",
   "language": "python",
   "name": "python3"
  },
  "language_info": {
   "codemirror_mode": {
    "name": "ipython",
    "version": 3
   },
   "file_extension": ".py",
   "mimetype": "text/x-python",
   "name": "python",
   "nbconvert_exporter": "python",
   "pygments_lexer": "ipython3",
   "version": "3.7.3"
  }
 },
 "nbformat": 4,
 "nbformat_minor": 4
}
